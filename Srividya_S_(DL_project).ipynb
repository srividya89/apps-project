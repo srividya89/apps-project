{
  "nbformat": 4,
  "nbformat_minor": 0,
  "metadata": {
    "colab": {
      "name": "Srividya S (DL project).ipynb",
      "provenance": [],
      "collapsed_sections": [],
      "authorship_tag": "ABX9TyPp9NziQY6nD47am7uLKFxq",
      "include_colab_link": true
    },
    "kernelspec": {
      "name": "python3",
      "display_name": "Python 3"
    },
    "language_info": {
      "name": "python"
    }
  },
  "cells": [
    {
      "cell_type": "markdown",
      "metadata": {
        "id": "view-in-github",
        "colab_type": "text"
      },
      "source": [
        "<a href=\"https://colab.research.google.com/github/srividya89/apps-project/blob/main/Srividya_S_(DL_project).ipynb\" target=\"_parent\"><img src=\"https://colab.research.google.com/assets/colab-badge.svg\" alt=\"Open In Colab\"/></a>"
      ]
    },
    {
      "cell_type": "code",
      "metadata": {
        "id": "qWzgF7jlOdYB"
      },
      "source": [
        "import tensorflow as tf \n",
        "from tensorflow.keras.models import Sequential\n",
        "from tensorflow.keras.layers import Input,Dense\n",
        "import numpy as np\n"
      ],
      "execution_count": 1,
      "outputs": []
    },
    {
      "cell_type": "code",
      "metadata": {
        "id": "QhkPfB7YPNVV"
      },
      "source": [
        "from sklearn.datasets import load_breast_cancer\n",
        "Data=load_breast_cancer()\n"
      ],
      "execution_count": 5,
      "outputs": []
    },
    {
      "cell_type": "code",
      "metadata": {
        "colab": {
          "base_uri": "https://localhost:8080/"
        },
        "id": "IJf0m8PdPdWk",
        "outputId": "9b2fb8b7-bdd8-4dd1-ed98-63c22cfbbc0d"
      },
      "source": [
        "print(Data.DESCR)"
      ],
      "execution_count": 6,
      "outputs": [
        {
          "output_type": "stream",
          "text": [
            ".. _breast_cancer_dataset:\n",
            "\n",
            "Breast cancer wisconsin (diagnostic) dataset\n",
            "--------------------------------------------\n",
            "\n",
            "**Data Set Characteristics:**\n",
            "\n",
            "    :Number of Instances: 569\n",
            "\n",
            "    :Number of Attributes: 30 numeric, predictive attributes and the class\n",
            "\n",
            "    :Attribute Information:\n",
            "        - radius (mean of distances from center to points on the perimeter)\n",
            "        - texture (standard deviation of gray-scale values)\n",
            "        - perimeter\n",
            "        - area\n",
            "        - smoothness (local variation in radius lengths)\n",
            "        - compactness (perimeter^2 / area - 1.0)\n",
            "        - concavity (severity of concave portions of the contour)\n",
            "        - concave points (number of concave portions of the contour)\n",
            "        - symmetry \n",
            "        - fractal dimension (\"coastline approximation\" - 1)\n",
            "\n",
            "        The mean, standard error, and \"worst\" or largest (mean of the three\n",
            "        largest values) of these features were computed for each image,\n",
            "        resulting in 30 features.  For instance, field 3 is Mean Radius, field\n",
            "        13 is Radius SE, field 23 is Worst Radius.\n",
            "\n",
            "        - class:\n",
            "                - WDBC-Malignant\n",
            "                - WDBC-Benign\n",
            "\n",
            "    :Summary Statistics:\n",
            "\n",
            "    ===================================== ====== ======\n",
            "                                           Min    Max\n",
            "    ===================================== ====== ======\n",
            "    radius (mean):                        6.981  28.11\n",
            "    texture (mean):                       9.71   39.28\n",
            "    perimeter (mean):                     43.79  188.5\n",
            "    area (mean):                          143.5  2501.0\n",
            "    smoothness (mean):                    0.053  0.163\n",
            "    compactness (mean):                   0.019  0.345\n",
            "    concavity (mean):                     0.0    0.427\n",
            "    concave points (mean):                0.0    0.201\n",
            "    symmetry (mean):                      0.106  0.304\n",
            "    fractal dimension (mean):             0.05   0.097\n",
            "    radius (standard error):              0.112  2.873\n",
            "    texture (standard error):             0.36   4.885\n",
            "    perimeter (standard error):           0.757  21.98\n",
            "    area (standard error):                6.802  542.2\n",
            "    smoothness (standard error):          0.002  0.031\n",
            "    compactness (standard error):         0.002  0.135\n",
            "    concavity (standard error):           0.0    0.396\n",
            "    concave points (standard error):      0.0    0.053\n",
            "    symmetry (standard error):            0.008  0.079\n",
            "    fractal dimension (standard error):   0.001  0.03\n",
            "    radius (worst):                       7.93   36.04\n",
            "    texture (worst):                      12.02  49.54\n",
            "    perimeter (worst):                    50.41  251.2\n",
            "    area (worst):                         185.2  4254.0\n",
            "    smoothness (worst):                   0.071  0.223\n",
            "    compactness (worst):                  0.027  1.058\n",
            "    concavity (worst):                    0.0    1.252\n",
            "    concave points (worst):               0.0    0.291\n",
            "    symmetry (worst):                     0.156  0.664\n",
            "    fractal dimension (worst):            0.055  0.208\n",
            "    ===================================== ====== ======\n",
            "\n",
            "    :Missing Attribute Values: None\n",
            "\n",
            "    :Class Distribution: 212 - Malignant, 357 - Benign\n",
            "\n",
            "    :Creator:  Dr. William H. Wolberg, W. Nick Street, Olvi L. Mangasarian\n",
            "\n",
            "    :Donor: Nick Street\n",
            "\n",
            "    :Date: November, 1995\n",
            "\n",
            "This is a copy of UCI ML Breast Cancer Wisconsin (Diagnostic) datasets.\n",
            "https://goo.gl/U2Uwz2\n",
            "\n",
            "Features are computed from a digitized image of a fine needle\n",
            "aspirate (FNA) of a breast mass.  They describe\n",
            "characteristics of the cell nuclei present in the image.\n",
            "\n",
            "Separating plane described above was obtained using\n",
            "Multisurface Method-Tree (MSM-T) [K. P. Bennett, \"Decision Tree\n",
            "Construction Via Linear Programming.\" Proceedings of the 4th\n",
            "Midwest Artificial Intelligence and Cognitive Science Society,\n",
            "pp. 97-101, 1992], a classification method which uses linear\n",
            "programming to construct a decision tree.  Relevant features\n",
            "were selected using an exhaustive search in the space of 1-4\n",
            "features and 1-3 separating planes.\n",
            "\n",
            "The actual linear program used to obtain the separating plane\n",
            "in the 3-dimensional space is that described in:\n",
            "[K. P. Bennett and O. L. Mangasarian: \"Robust Linear\n",
            "Programming Discrimination of Two Linearly Inseparable Sets\",\n",
            "Optimization Methods and Software 1, 1992, 23-34].\n",
            "\n",
            "This database is also available through the UW CS ftp server:\n",
            "\n",
            "ftp ftp.cs.wisc.edu\n",
            "cd math-prog/cpo-dataset/machine-learn/WDBC/\n",
            "\n",
            ".. topic:: References\n",
            "\n",
            "   - W.N. Street, W.H. Wolberg and O.L. Mangasarian. Nuclear feature extraction \n",
            "     for breast tumor diagnosis. IS&T/SPIE 1993 International Symposium on \n",
            "     Electronic Imaging: Science and Technology, volume 1905, pages 861-870,\n",
            "     San Jose, CA, 1993.\n",
            "   - O.L. Mangasarian, W.N. Street and W.H. Wolberg. Breast cancer diagnosis and \n",
            "     prognosis via linear programming. Operations Research, 43(4), pages 570-577, \n",
            "     July-August 1995.\n",
            "   - W.H. Wolberg, W.N. Street, and O.L. Mangasarian. Machine learning techniques\n",
            "     to diagnose breast cancer from fine-needle aspirates. Cancer Letters 77 (1994) \n",
            "     163-171.\n"
          ],
          "name": "stdout"
        }
      ]
    },
    {
      "cell_type": "code",
      "metadata": {
        "colab": {
          "base_uri": "https://localhost:8080/"
        },
        "id": "ohOWSA72PzC9",
        "outputId": "7d447baf-c245-42b9-8bf0-116560870baa"
      },
      "source": [
        "features=Data.data \n",
        "target=Data.target\n",
        "print(features.shape)\n",
        "print(target.shape)\n"
      ],
      "execution_count": 7,
      "outputs": [
        {
          "output_type": "stream",
          "text": [
            "(569, 30)\n",
            "(569,)\n"
          ],
          "name": "stdout"
        }
      ]
    },
    {
      "cell_type": "code",
      "metadata": {
        "colab": {
          "base_uri": "https://localhost:8080/"
        },
        "id": "XreoOkTdQLZD",
        "outputId": "af72aced-fa37-4c27-9bf5-88401f7c4a63"
      },
      "source": [
        "from sklearn.model_selection import train_test_split\n",
        "x_train,x_test,y_train,y_test= train_test_split(features,target,test_size=0.2)\n",
        "print(x_train.shape)\n",
        "print(y_train.shape)\n",
        "print(x_test.shape)\n",
        "print(y_test.shape)\n"
      ],
      "execution_count": 8,
      "outputs": [
        {
          "output_type": "stream",
          "text": [
            "(455, 30)\n",
            "(455,)\n",
            "(114, 30)\n",
            "(114,)\n"
          ],
          "name": "stdout"
        }
      ]
    },
    {
      "cell_type": "code",
      "metadata": {
        "id": "9gH7hitAQ7NE"
      },
      "source": [
        "from keras.models import Sequential\n",
        "from keras.layers import Dense\n"
      ],
      "execution_count": 9,
      "outputs": []
    },
    {
      "cell_type": "code",
      "metadata": {
        "id": "_e7aUqF2RIe5"
      },
      "source": [
        "model=Sequential()\n",
        "model.add(Dense(32,input_dim =30,activation ='relu'))\n",
        "model.add(Dense(64,activation ='relu'))\n",
        "model.add(Dense(1,activation='sigmoid'))\n"
      ],
      "execution_count": 10,
      "outputs": []
    },
    {
      "cell_type": "code",
      "metadata": {
        "id": "hXxg_9KxRra7"
      },
      "source": [
        "model.compile(loss='binary_crossentropy',optimizer='adam',metrics=['accuracy'])"
      ],
      "execution_count": 12,
      "outputs": []
    },
    {
      "cell_type": "code",
      "metadata": {
        "colab": {
          "base_uri": "https://localhost:8080/"
        },
        "id": "vbj88Li7R-t6",
        "outputId": "48f9f677-4bf5-4311-c3d2-04f5e580f9d0"
      },
      "source": [
        "model.summary()"
      ],
      "execution_count": 13,
      "outputs": [
        {
          "output_type": "stream",
          "text": [
            "Model: \"sequential\"\n",
            "_________________________________________________________________\n",
            "Layer (type)                 Output Shape              Param #   \n",
            "=================================================================\n",
            "dense (Dense)                (None, 32)                992       \n",
            "_________________________________________________________________\n",
            "dense_1 (Dense)              (None, 64)                2112      \n",
            "_________________________________________________________________\n",
            "dense_2 (Dense)              (None, 1)                 65        \n",
            "=================================================================\n",
            "Total params: 3,169\n",
            "Trainable params: 3,169\n",
            "Non-trainable params: 0\n",
            "_________________________________________________________________\n"
          ],
          "name": "stdout"
        }
      ]
    },
    {
      "cell_type": "code",
      "metadata": {
        "colab": {
          "base_uri": "https://localhost:8080/"
        },
        "id": "AtbpCLhGSDX2",
        "outputId": "5983c21c-68cc-49e8-deda-5413172009c6"
      },
      "source": [
        "model.fit(x_train,y_train,epochs=10,batch_size=32)"
      ],
      "execution_count": 14,
      "outputs": [
        {
          "output_type": "stream",
          "text": [
            "Epoch 1/10\n",
            "15/15 [==============================] - 12s 2ms/step - loss: 6.5228 - accuracy: 0.6178\n",
            "Epoch 2/10\n",
            "15/15 [==============================] - 0s 2ms/step - loss: 1.6095 - accuracy: 0.7960\n",
            "Epoch 3/10\n",
            "15/15 [==============================] - 0s 2ms/step - loss: 0.2869 - accuracy: 0.9244\n",
            "Epoch 4/10\n",
            "15/15 [==============================] - 0s 2ms/step - loss: 0.3939 - accuracy: 0.8668\n",
            "Epoch 5/10\n",
            "15/15 [==============================] - 0s 2ms/step - loss: 0.2410 - accuracy: 0.9193\n",
            "Epoch 6/10\n",
            "15/15 [==============================] - 0s 2ms/step - loss: 0.2369 - accuracy: 0.9224\n",
            "Epoch 7/10\n",
            "15/15 [==============================] - 0s 2ms/step - loss: 0.2697 - accuracy: 0.9172\n",
            "Epoch 8/10\n",
            "15/15 [==============================] - 0s 2ms/step - loss: 0.3267 - accuracy: 0.9020\n",
            "Epoch 9/10\n",
            "15/15 [==============================] - 0s 2ms/step - loss: 0.2299 - accuracy: 0.9259\n",
            "Epoch 10/10\n",
            "15/15 [==============================] - 0s 2ms/step - loss: 0.3479 - accuracy: 0.8790\n"
          ],
          "name": "stdout"
        },
        {
          "output_type": "execute_result",
          "data": {
            "text/plain": [
              "<keras.callbacks.History at 0x7f399acbaf90>"
            ]
          },
          "metadata": {
            "tags": []
          },
          "execution_count": 14
        }
      ]
    },
    {
      "cell_type": "code",
      "metadata": {
        "colab": {
          "base_uri": "https://localhost:8080/"
        },
        "id": "MjUdrEeXSYAw",
        "outputId": "3b1ab50b-7933-4b32-98ed-6f3d6021d293"
      },
      "source": [
        "model.fit(x_train,y_train,epochs=10)"
      ],
      "execution_count": 15,
      "outputs": [
        {
          "output_type": "stream",
          "text": [
            "Epoch 1/10\n",
            "15/15 [==============================] - 0s 2ms/step - loss: 0.3679 - accuracy: 0.8813\n",
            "Epoch 2/10\n",
            "15/15 [==============================] - 0s 2ms/step - loss: 0.2656 - accuracy: 0.9055\n",
            "Epoch 3/10\n",
            "15/15 [==============================] - 0s 2ms/step - loss: 0.2267 - accuracy: 0.9209\n",
            "Epoch 4/10\n",
            "15/15 [==============================] - 0s 2ms/step - loss: 0.2918 - accuracy: 0.9055\n",
            "Epoch 5/10\n",
            "15/15 [==============================] - 0s 2ms/step - loss: 0.2372 - accuracy: 0.9187\n",
            "Epoch 6/10\n",
            "15/15 [==============================] - 0s 2ms/step - loss: 0.2268 - accuracy: 0.9231\n",
            "Epoch 7/10\n",
            "15/15 [==============================] - 0s 2ms/step - loss: 0.2258 - accuracy: 0.9099\n",
            "Epoch 8/10\n",
            "15/15 [==============================] - 0s 2ms/step - loss: 0.2596 - accuracy: 0.9033\n",
            "Epoch 9/10\n",
            "15/15 [==============================] - 0s 2ms/step - loss: 0.2881 - accuracy: 0.8967\n",
            "Epoch 10/10\n",
            "15/15 [==============================] - 0s 2ms/step - loss: 0.3445 - accuracy: 0.8989\n"
          ],
          "name": "stdout"
        },
        {
          "output_type": "execute_result",
          "data": {
            "text/plain": [
              "<keras.callbacks.History at 0x7f39928ac090>"
            ]
          },
          "metadata": {
            "tags": []
          },
          "execution_count": 15
        }
      ]
    },
    {
      "cell_type": "code",
      "metadata": {
        "colab": {
          "base_uri": "https://localhost:8080/"
        },
        "id": "Ahozl4EnSvQm",
        "outputId": "2d197a91-9b95-46fc-dcbe-bacff4030515"
      },
      "source": [
        "scores=model.evaluate(x_test,y_test)"
      ],
      "execution_count": 16,
      "outputs": [
        {
          "output_type": "stream",
          "text": [
            "4/4 [==============================] - 0s 2ms/step - loss: 0.2884 - accuracy: 0.8772\n"
          ],
          "name": "stdout"
        }
      ]
    },
    {
      "cell_type": "code",
      "metadata": {
        "colab": {
          "base_uri": "https://localhost:8080/"
        },
        "id": "UGpV1PhIS7Gi",
        "outputId": "7ce737e9-a69a-4d0b-d8d5-857380ab5477"
      },
      "source": [
        "print(scores)"
      ],
      "execution_count": 17,
      "outputs": [
        {
          "output_type": "stream",
          "text": [
            "[0.2883619964122772, 0.8771929740905762]\n"
          ],
          "name": "stdout"
        }
      ]
    },
    {
      "cell_type": "code",
      "metadata": {
        "id": "VBRp7mrJS_uk"
      },
      "source": [
        "predictions=model.predict(x_test)\n",
        "label=[]"
      ],
      "execution_count": 19,
      "outputs": []
    },
    {
      "cell_type": "code",
      "metadata": {
        "colab": {
          "base_uri": "https://localhost:8080/"
        },
        "id": "AxjF1PWuTImZ",
        "outputId": "6cebce55-f62b-41b8-8842-727ff913b364"
      },
      "source": [
        "for pred in predictions:\n",
        "     if pred>=0.5:\n",
        "\n",
        "       print(\"malignant\")\n",
        "     else:\n",
        "       print(\"Benign\")"
      ],
      "execution_count": 20,
      "outputs": [
        {
          "output_type": "stream",
          "text": [
            "Benign\n",
            "Benign\n",
            "malignant\n",
            "Benign\n",
            "Benign\n",
            "malignant\n",
            "Benign\n",
            "Benign\n",
            "malignant\n",
            "malignant\n",
            "malignant\n",
            "malignant\n",
            "Benign\n",
            "Benign\n",
            "malignant\n",
            "Benign\n",
            "Benign\n",
            "Benign\n",
            "malignant\n",
            "malignant\n",
            "Benign\n",
            "malignant\n",
            "malignant\n",
            "malignant\n",
            "malignant\n",
            "malignant\n",
            "Benign\n",
            "Benign\n",
            "Benign\n",
            "malignant\n",
            "Benign\n",
            "Benign\n",
            "Benign\n",
            "malignant\n",
            "malignant\n",
            "malignant\n",
            "malignant\n",
            "Benign\n",
            "malignant\n",
            "Benign\n",
            "malignant\n",
            "malignant\n",
            "malignant\n",
            "Benign\n",
            "Benign\n",
            "malignant\n",
            "Benign\n",
            "Benign\n",
            "malignant\n",
            "Benign\n",
            "malignant\n",
            "Benign\n",
            "Benign\n",
            "malignant\n",
            "malignant\n",
            "malignant\n",
            "malignant\n",
            "malignant\n",
            "Benign\n",
            "Benign\n",
            "Benign\n",
            "malignant\n",
            "Benign\n",
            "malignant\n",
            "Benign\n",
            "malignant\n",
            "malignant\n",
            "malignant\n",
            "malignant\n",
            "Benign\n",
            "Benign\n",
            "malignant\n",
            "Benign\n",
            "malignant\n",
            "malignant\n",
            "malignant\n",
            "malignant\n",
            "malignant\n",
            "Benign\n",
            "malignant\n",
            "Benign\n",
            "Benign\n",
            "Benign\n",
            "malignant\n",
            "malignant\n",
            "malignant\n",
            "malignant\n",
            "Benign\n",
            "Benign\n",
            "malignant\n",
            "malignant\n",
            "malignant\n",
            "malignant\n",
            "malignant\n",
            "Benign\n",
            "malignant\n",
            "malignant\n",
            "malignant\n",
            "malignant\n",
            "Benign\n",
            "Benign\n",
            "malignant\n",
            "malignant\n",
            "malignant\n",
            "Benign\n",
            "Benign\n",
            "malignant\n",
            "malignant\n",
            "malignant\n",
            "Benign\n",
            "Benign\n",
            "Benign\n",
            "Benign\n",
            "malignant\n"
          ],
          "name": "stdout"
        }
      ]
    },
    {
      "cell_type": "code",
      "metadata": {
        "id": "_wVkeC50UEqB"
      },
      "source": [
        ""
      ],
      "execution_count": null,
      "outputs": []
    },
    {
      "cell_type": "markdown",
      "metadata": {
        "id": "j6-a0oQKUFnc"
      },
      "source": [
        "model gives 87% accurate that the cancer is malignant"
      ]
    }
  ]
}